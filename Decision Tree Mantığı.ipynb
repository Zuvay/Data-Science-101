{
 "cells": [
  {
   "cell_type": "code",
   "execution_count": 1,
   "id": "6a91345a-8ec2-4682-8b86-8f261b6c7580",
   "metadata": {},
   "outputs": [],
   "source": [
    "import pandas as pd\n",
    "from math import sqrt"
   ]
  },
  {
   "cell_type": "code",
   "execution_count": 8,
   "id": "b95b64ab-ddff-469a-a3ee-0f8a09bad504",
   "metadata": {},
   "outputs": [
    {
     "data": {
      "text/html": [
       "<div>\n",
       "<style scoped>\n",
       "    .dataframe tbody tr th:only-of-type {\n",
       "        vertical-align: middle;\n",
       "    }\n",
       "\n",
       "    .dataframe tbody tr th {\n",
       "        vertical-align: top;\n",
       "    }\n",
       "\n",
       "    .dataframe thead th {\n",
       "        text-align: right;\n",
       "    }\n",
       "</style>\n",
       "<table border=\"1\" class=\"dataframe\">\n",
       "  <thead>\n",
       "    <tr style=\"text-align: right;\">\n",
       "      <th></th>\n",
       "      <th>boy</th>\n",
       "      <th>deneyim</th>\n",
       "      <th>maas</th>\n",
       "    </tr>\n",
       "  </thead>\n",
       "  <tbody>\n",
       "    <tr>\n",
       "      <th>0</th>\n",
       "      <td>175</td>\n",
       "      <td>4</td>\n",
       "      <td>12</td>\n",
       "    </tr>\n",
       "    <tr>\n",
       "      <th>1</th>\n",
       "      <td>178</td>\n",
       "      <td>6</td>\n",
       "      <td>18</td>\n",
       "    </tr>\n",
       "    <tr>\n",
       "      <th>2</th>\n",
       "      <td>177</td>\n",
       "      <td>3</td>\n",
       "      <td>15</td>\n",
       "    </tr>\n",
       "    <tr>\n",
       "      <th>3</th>\n",
       "      <td>181</td>\n",
       "      <td>2</td>\n",
       "      <td>16</td>\n",
       "    </tr>\n",
       "    <tr>\n",
       "      <th>4</th>\n",
       "      <td>182</td>\n",
       "      <td>6</td>\n",
       "      <td>24</td>\n",
       "    </tr>\n",
       "    <tr>\n",
       "      <th>5</th>\n",
       "      <td>183</td>\n",
       "      <td>3</td>\n",
       "      <td>20</td>\n",
       "    </tr>\n",
       "    <tr>\n",
       "      <th>6</th>\n",
       "      <td>184</td>\n",
       "      <td>7</td>\n",
       "      <td>28</td>\n",
       "    </tr>\n",
       "    <tr>\n",
       "      <th>7</th>\n",
       "      <td>188</td>\n",
       "      <td>2</td>\n",
       "      <td>24</td>\n",
       "    </tr>\n",
       "    <tr>\n",
       "      <th>8</th>\n",
       "      <td>190</td>\n",
       "      <td>6</td>\n",
       "      <td>32</td>\n",
       "    </tr>\n",
       "  </tbody>\n",
       "</table>\n",
       "</div>"
      ],
      "text/plain": [
       "   boy  deneyim  maas\n",
       "0  175        4    12\n",
       "1  178        6    18\n",
       "2  177        3    15\n",
       "3  181        2    16\n",
       "4  182        6    24\n",
       "5  183        3    20\n",
       "6  184        7    28\n",
       "7  188        2    24\n",
       "8  190        6    32"
      ]
     },
     "execution_count": 8,
     "metadata": {},
     "output_type": "execute_result"
    }
   ],
   "source": [
    "oyuncular = {\"boy\" : [175,178,177,181,182,183,184,188,190], \"deneyim\": [4,6,3,2,6,3,7,2,6], \"maas\" : [12,18,15,16,24,20,28,24,32]}\n",
    "df = pd.DataFrame(oyuncular)\n",
    "df"
   ]
  },
  {
   "cell_type": "markdown",
   "id": "28742e99-ba48-4e0d-bb58-7090b18bee39",
   "metadata": {},
   "source": [
    "- **Burada çeşitli filtrelemeler ile datayı böleceğiz amacımız ise error'u düşürmek**\n",
    "- **Her bir filtrede örneğin maaşlardan maaş ortalamasını çıkarıp karelerini toplayacağız bu bize varyansı verecek**\n",
    "- **Varyansın düşük olması aynı zamanda error'un da azalması anlamına geliyor. Amacımız en düşük error'a ulaşmak**\n",
    "- **Düşük error'a ulaştığımız mantık bizim modelimizi eğitmemiz için hangi sorulardan başlayacağımızı bize gösterecek**"
   ]
  },
  {
   "cell_type": "code",
   "execution_count": 9,
   "id": "0c2ff58c-cd6b-4715-b630-8e4d4560ba53",
   "metadata": {},
   "outputs": [
    {
     "data": {
      "text/plain": [
       "21.0"
      ]
     },
     "execution_count": 9,
     "metadata": {},
     "output_type": "execute_result"
    }
   ],
   "source": [
    "df.maas.mean()"
   ]
  },
  {
   "cell_type": "markdown",
   "id": "e8b1953d-ca46-45c6-92a6-50d8c51872f9",
   "metadata": {},
   "source": [
    "<h1>Filtreleme yapmadan ilk modelimiz şöyle duracak</h1>"
   ]
  },
  {
   "cell_type": "code",
   "execution_count": 11,
   "id": "29ba9edd-4edd-407e-bbba-7867d3e11f72",
   "metadata": {},
   "outputs": [
    {
     "data": {
      "text/plain": [
       "340.0"
      ]
     },
     "execution_count": 11,
     "metadata": {},
     "output_type": "execute_result"
    }
   ],
   "source": [
    "((df.maas)- (df.maas.mean())).pow(2).sum() #filtreleme yapmadan ulaştığımız error 340"
   ]
  },
  {
   "cell_type": "markdown",
   "id": "afa9fb19-483b-4d4c-8e56-af4075ff3508",
   "metadata": {},
   "source": [
    "-**İLK FİLTRELEME**"
   ]
  },
  {
   "cell_type": "code",
   "execution_count": 14,
   "id": "50997745-38f8-4af2-a469-82b221536709",
   "metadata": {},
   "outputs": [
    {
     "data": {
      "text/html": [
       "<div>\n",
       "<style scoped>\n",
       "    .dataframe tbody tr th:only-of-type {\n",
       "        vertical-align: middle;\n",
       "    }\n",
       "\n",
       "    .dataframe tbody tr th {\n",
       "        vertical-align: top;\n",
       "    }\n",
       "\n",
       "    .dataframe thead th {\n",
       "        text-align: right;\n",
       "    }\n",
       "</style>\n",
       "<table border=\"1\" class=\"dataframe\">\n",
       "  <thead>\n",
       "    <tr style=\"text-align: right;\">\n",
       "      <th></th>\n",
       "      <th>boy</th>\n",
       "      <th>deneyim</th>\n",
       "      <th>maas</th>\n",
       "    </tr>\n",
       "  </thead>\n",
       "  <tbody>\n",
       "    <tr>\n",
       "      <th>3</th>\n",
       "      <td>181</td>\n",
       "      <td>2</td>\n",
       "      <td>16</td>\n",
       "    </tr>\n",
       "    <tr>\n",
       "      <th>4</th>\n",
       "      <td>182</td>\n",
       "      <td>6</td>\n",
       "      <td>24</td>\n",
       "    </tr>\n",
       "    <tr>\n",
       "      <th>5</th>\n",
       "      <td>183</td>\n",
       "      <td>3</td>\n",
       "      <td>20</td>\n",
       "    </tr>\n",
       "    <tr>\n",
       "      <th>6</th>\n",
       "      <td>184</td>\n",
       "      <td>7</td>\n",
       "      <td>28</td>\n",
       "    </tr>\n",
       "    <tr>\n",
       "      <th>7</th>\n",
       "      <td>188</td>\n",
       "      <td>2</td>\n",
       "      <td>24</td>\n",
       "    </tr>\n",
       "    <tr>\n",
       "      <th>8</th>\n",
       "      <td>190</td>\n",
       "      <td>6</td>\n",
       "      <td>32</td>\n",
       "    </tr>\n",
       "  </tbody>\n",
       "</table>\n",
       "</div>"
      ],
      "text/plain": [
       "   boy  deneyim  maas\n",
       "3  181        2    16\n",
       "4  182        6    24\n",
       "5  183        3    20\n",
       "6  184        7    28\n",
       "7  188        2    24\n",
       "8  190        6    32"
      ]
     },
     "execution_count": 14,
     "metadata": {},
     "output_type": "execute_result"
    }
   ],
   "source": [
    "filt = (df.boy <= 180)\n",
    "df1 = df[filt] #boyu 180cmden kısa olanlar için df1\n",
    "df2 = df[~filt] #uzun olanlar içi"
   ]
  },
  {
   "cell_type": "markdown",
   "id": "bbaeb504-a083-46ed-b274-93b10281ee47",
   "metadata": {},
   "source": [
    "<h1>İlk filtreleme için hesaplama</h1>"
   ]
  },
  {
   "cell_type": "code",
   "execution_count": 16,
   "id": "8f478c50-7131-40b9-9b1b-cb090374e122",
   "metadata": {},
   "outputs": [
    {
     "data": {
      "text/plain": [
       "178.0"
      ]
     },
     "execution_count": 16,
     "metadata": {},
     "output_type": "execute_result"
    }
   ],
   "source": [
    "((df1.maas)-(df1.maas.mean())).pow(2).sum() + ((df2.maas)-(df2.maas.mean())).pow(2).sum()"
   ]
  },
  {
   "cell_type": "markdown",
   "id": "b3f41430-f5be-42f9-be1e-2f0a80252eac",
   "metadata": {},
   "source": [
    "-**Filtreleme sonrası error düşmüş oldu. Daha çok filtreleme yaparak error'u düşürmeliyiz**"
   ]
  },
  {
   "cell_type": "markdown",
   "id": "d3cb8ff4-3e93-4e30-bb97-e24197d31a78",
   "metadata": {},
   "source": [
    "<h1>İkinci filtreleme</h1>"
   ]
  },
  {
   "cell_type": "code",
   "execution_count": 26,
   "id": "27fcff65-3565-44be-b770-fcae2af33f55",
   "metadata": {},
   "outputs": [
    {
     "data": {
      "text/html": [
       "<div>\n",
       "<style scoped>\n",
       "    .dataframe tbody tr th:only-of-type {\n",
       "        vertical-align: middle;\n",
       "    }\n",
       "\n",
       "    .dataframe tbody tr th {\n",
       "        vertical-align: top;\n",
       "    }\n",
       "\n",
       "    .dataframe thead th {\n",
       "        text-align: right;\n",
       "    }\n",
       "</style>\n",
       "<table border=\"1\" class=\"dataframe\">\n",
       "  <thead>\n",
       "    <tr style=\"text-align: right;\">\n",
       "      <th></th>\n",
       "      <th>boy</th>\n",
       "      <th>deneyim</th>\n",
       "      <th>maas</th>\n",
       "    </tr>\n",
       "  </thead>\n",
       "  <tbody>\n",
       "    <tr>\n",
       "      <th>3</th>\n",
       "      <td>181</td>\n",
       "      <td>2</td>\n",
       "      <td>16</td>\n",
       "    </tr>\n",
       "    <tr>\n",
       "      <th>4</th>\n",
       "      <td>182</td>\n",
       "      <td>6</td>\n",
       "      <td>24</td>\n",
       "    </tr>\n",
       "    <tr>\n",
       "      <th>5</th>\n",
       "      <td>183</td>\n",
       "      <td>3</td>\n",
       "      <td>20</td>\n",
       "    </tr>\n",
       "    <tr>\n",
       "      <th>6</th>\n",
       "      <td>184</td>\n",
       "      <td>7</td>\n",
       "      <td>28</td>\n",
       "    </tr>\n",
       "  </tbody>\n",
       "</table>\n",
       "</div>"
      ],
      "text/plain": [
       "   boy  deneyim  maas\n",
       "3  181        2    16\n",
       "4  182        6    24\n",
       "5  183        3    20\n",
       "6  184        7    28"
      ]
     },
     "execution_count": 26,
     "metadata": {},
     "output_type": "execute_result"
    }
   ],
   "source": [
    "filt2 = (df2.boy <= 185)\n",
    "df3 = df2[filt2] #180cmdden uzun olanlar için boyu 185cmden kısa olanlar için df3. Çünkü df2'yi dallandırıyoruz şu an\n",
    "df4 = df2[~filt2] #180cmden uzun olanlar için 185den de uzun olanlar için df4 oluşturuldu.\n",
    "#Boy konusunda daha spesifik bir dallandırma yapmış olduk."
   ]
  },
  {
   "cell_type": "code",
   "execution_count": 24,
   "id": "8792be8d-566b-42bf-8a45-4886db3d6e6f",
   "metadata": {},
   "outputs": [
    {
     "data": {
      "text/plain": [
       "130.0"
      ]
     },
     "execution_count": 24,
     "metadata": {},
     "output_type": "execute_result"
    }
   ],
   "source": [
    "((df1.maas)-(df1.maas.mean())).pow(2).sum() + ((df3.maas)-(df3.maas.mean())).pow(2).sum() + ((df4.maas)-(df4.maas.mean())).pow(2).sum()"
   ]
  },
  {
   "cell_type": "markdown",
   "id": "79f419c2-d1cc-4700-ab99-4cd373095859",
   "metadata": {},
   "source": [
    "-**Artık df2'yi katmıyoruz çünkü df2 zaten 2ye bölündü.**"
   ]
  },
  {
   "cell_type": "markdown",
   "id": "92bcf41d-017c-4934-9aea-659911217275",
   "metadata": {},
   "source": [
    "<h1>Üçüncü Filtreleme</h1>"
   ]
  },
  {
   "cell_type": "markdown",
   "id": "9750c9b2-b2c1-4f2c-b6bb-2b54cb994fcd",
   "metadata": {},
   "source": [
    "-**Şimdi 180 ile 185 arasındakiler için yeni bir parametre ile filtreleme yapıcaz. Bu sefer deneyimi işin içine katıyoruz**"
   ]
  },
  {
   "cell_type": "code",
   "execution_count": 29,
   "id": "33dba7fa-cb85-419f-abe1-451c3c248ba0",
   "metadata": {},
   "outputs": [],
   "source": [
    "filt3 = (df3.deneyim <= 5)\n",
    "df5 = df3[filt3] #180-185 aralığında 5 yıllık deneyimden az kişiler\n",
    "df6 = df3[~filt3] #180-185 aralığında 5 yıllık deneyimden fazla kişiler"
   ]
  },
  {
   "cell_type": "markdown",
   "id": "b6af483f-d1ab-426f-817b-1f3b8d7b7d27",
   "metadata": {},
   "source": [
    "-**df1,4,5,6 için hesaplamaya geçeceğiz. 180den uzun 185 den kısa 5 yıldan az ve fazla olmak üzere 4 grubun varyansını hesaplayacağız**"
   ]
  },
  {
   "cell_type": "code",
   "execution_count": 31,
   "id": "98c6b458-d419-4088-ab43-1a4d75fbf936",
   "metadata": {},
   "outputs": [
    {
     "name": "stdout",
     "output_type": "stream",
     "text": [
      "   boy  deneyim  maas\n",
      "0  175        4    12\n",
      "1  178        6    18\n",
      "2  177        3    15\n",
      "   boy  deneyim  maas\n",
      "7  188        2    24\n",
      "8  190        6    32\n",
      "   boy  deneyim  maas\n",
      "3  181        2    16\n",
      "5  183        3    20\n",
      "   boy  deneyim  maas\n",
      "4  182        6    24\n",
      "6  184        7    28\n"
     ]
    }
   ],
   "source": [
    "print(df1)\n",
    "print(df4)\n",
    "print(df5)\n",
    "print(df6)"
   ]
  },
  {
   "cell_type": "markdown",
   "id": "b3f461dc-7fdb-48aa-b320-a4d9042cd8e6",
   "metadata": {},
   "source": [
    "-**Sorgumuzda hem 180den kısa hem 180den uzun ama 185den kısa hem de 180-185 arasında 5 yıldan az ve fazla deneyimi olan veriler var**\n",
    "-**Bu sorguları yaparak error'umuzu düşürdük. Bu da bize modeli eğitmek için nerelerden başlamamız gerektiğini söyledi**"
   ]
  },
  {
   "cell_type": "code",
   "execution_count": 33,
   "id": "feb60463-052c-4d34-b8db-6e273afeca17",
   "metadata": {},
   "outputs": [
    {
     "data": {
      "text/plain": [
       "66.0"
      ]
     },
     "execution_count": 33,
     "metadata": {},
     "output_type": "execute_result"
    }
   ],
   "source": [
    "((df1.maas)-(df1.maas.mean())).pow(2).sum() + ((df4.maas)-(df4.maas.mean())).pow(2).sum() + ((df5.maas)-(df5.maas.mean())).pow(2).sum() + ((df6.maas)-(df6.maas.mean())).pow(2).sum()"
   ]
  },
  {
   "cell_type": "markdown",
   "id": "d1dd8c11-aa6b-471e-8758-4d28f4546f78",
   "metadata": {},
   "source": [
    "-**Error'umuz daha da düşmüş oldu**"
   ]
  },
  {
   "cell_type": "markdown",
   "id": "11ac4f5b-50c8-4875-92e5-1a8f5b184373",
   "metadata": {},
   "source": [
    "<h1>Sonuç Olarak</h1>"
   ]
  },
  {
   "cell_type": "markdown",
   "id": "23ce8eb9-d8db-4a4a-a0cd-d9c450137c34",
   "metadata": {},
   "source": [
    "Decision tree veya diğer makine öğrenimi algoritmalarını kullanırken, veri setinizin özelliklerine göre farklı alt gruplara ayırarak bu gruplardaki değişkenliği incelemek, hangi algoritmanın veya modelin en uygun olduğunu belirlemede bize yardımcı olabilir. Örneğin, maaşların varyansı büyük ölçüde değişiyorsa, daha esnek bir modelin kullanılması gerekebilir."
   ]
  },
  {
   "attachments": {
    "4620859c-2737-48ab-9746-37f1e3460ac7.png": {
     "image/png": "[encoded data removed]"
    }
   },
   "cell_type": "markdown",
   "id": "82f3e226-c750-47cc-be77-f943941d7495",
   "metadata": {},
   "source": [
    "![shema.png](attachment:4620859c-2737-48ab-9746-37f1e3460ac7.png)"
   ]
  },
  {
   "cell_type": "code",
   "execution_count": null,
   "id": "921728e0-817b-4573-9620-e236c403ba07",
   "metadata": {},
   "outputs": [],
   "source": []
  }
 ],
 "metadata": {
  "kernelspec": {
   "display_name": "Python 3 (ipykernel)",
   "language": "python",
   "name": "python3"
  },
  "language_info": {
   "codemirror_mode": {
    "name": "ipython",
    "version": 3
   },
   "file_extension": ".py",
   "mimetype": "text/x-python",
   "name": "python",
   "nbconvert_exporter": "python",
   "pygments_lexer": "ipython3",
   "version": "3.9.6"
  }
 },
 "nbformat": 4,
 "nbformat_minor": 5
}
