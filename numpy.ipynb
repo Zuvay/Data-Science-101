{
 "cells": [
  {
   "cell_type": "code",
   "execution_count": 13,
   "id": "3dd76e2d-314e-4d73-a072-5bfedd860590",
   "metadata": {
    "collapsed": true,
    "jupyter": {
     "outputs_hidden": true
    },
    "scrolled": true
   },
   "outputs": [
    {
     "name": "stdout",
     "output_type": "stream",
     "text": [
      "[1, 2, 3, 4, 5]\n"
     ]
    }
   ],
   "source": [
    "x = [x for x in range(1,6)]\n",
    "print(x)"
   ]
  },
  {
   "cell_type": "markdown",
   "id": "8992fe83-00f8-4103-8bd2-aeca6444041d",
   "metadata": {},
   "source": [
    "- **Shift+Enter ile çalıştır ve bir sonraki hücreye geç:**\n",
    "- **Ctrl+Enter ile çalıştır ve mevcut hücrede kal:**\n",
    "- **A ile başa, B ile sonrasında hücre ekle:**\n",
    "- **DD yazarak hücreyi sil:**\n",
    "- **Z yazarak geri al:**"
   ]
  },
  {
   "cell_type": "code",
   "execution_count": 3,
   "id": "c8f19121-ab69-48d5-8de2-cf24b74ee016",
   "metadata": {},
   "outputs": [
    {
     "name": "stdout",
     "output_type": "stream",
     "text": [
      "[1 2 3 4]\n"
     ]
    }
   ],
   "source": [
    "import numpy as np\n",
    "x=np.array([1,2,3,4])\n",
    "print(x)"
   ]
  },
  {
   "cell_type": "markdown",
   "id": "9e7cc6c7-8641-422a-ac0c-cfcd2688cc15",
   "metadata": {},
   "source": [
    "- **Numpy verileri tek tip olarak karşımıza çıkar**\n",
    "- **eğer listede float varsa tüm intleri float'a çevirir çünkü float daha genel bir tiptir**\n",
    "- **str olan veri tipi bulunan bir veri setindeki tüm verileri str türüne çevirir**\n",
    "- **Özellikle çevirmek istiyorsak da alttaki gibi yapmalıyız**\n",
    "- **stringi integere çeviremiyoruz tabii ki**\n",
    "- **eğer string değerimiz \"4.2\" gibi bir değerse önce float sonra inte çevirebiliriz**\n"
   ]
  },
  {
   "cell_type": "code",
   "execution_count": 6,
   "id": "c3c45b34-4014-418c-b63c-9299223127b6",
   "metadata": {},
   "outputs": [
    {
     "name": "stdout",
     "output_type": "stream",
     "text": [
      "[1 2 3 5]\n"
     ]
    }
   ],
   "source": [
    "import numpy as np\n",
    "x = np.array([1,2,3,5.3], dtype=\"int32\")\n",
    "print(x)"
   ]
  },
  {
   "cell_type": "code",
   "execution_count": 12,
   "id": "8e967654-f505-4e5e-968a-98b41fe7de33",
   "metadata": {},
   "outputs": [
    {
     "name": "stdout",
     "output_type": "stream",
     "text": [
      "[0 0 0 0 0 0 0 0 0 0]\n",
      "[[0 0 0 0]\n",
      " [0 0 0 0]\n",
      " [0 0 0 0]]\n",
      "[[[0 0 0 0 0]\n",
      "  [0 0 0 0 0]\n",
      "  [0 0 0 0 0]\n",
      "  [0 0 0 0 0]]\n",
      "\n",
      " [[0 0 0 0 0]\n",
      "  [0 0 0 0 0]\n",
      "  [0 0 0 0 0]\n",
      "  [0 0 0 0 0]]\n",
      "\n",
      " [[0 0 0 0 0]\n",
      "  [0 0 0 0 0]\n",
      "  [0 0 0 0 0]\n",
      "  [0 0 0 0 0]]]\n"
     ]
    }
   ],
   "source": [
    "import numpy as np\n",
    "m = np.zeros(10,dtype=\"int32\") #Elemanları 0 dan oluşan array yaratmak\n",
    "n = np.zeros((3,4), dtype=\"int32\") #Derinlik katmak için (x,y) x row y column\n",
    "p = np.zeros((3,4,5), dtype=\"int32\") # 3 tane 4e 5lik\n",
    "print(m)\n",
    "print(n)\n",
    "print(p)"
   ]
  },
  {
   "cell_type": "code",
   "execution_count": 18,
   "id": "e5e90077-0ed8-4455-bdd7-cddff14565e9",
   "metadata": {},
   "outputs": [
    {
     "data": {
      "text/plain": [
       "array([['', '', ''],\n",
       "       ['', '', '']], dtype='<U1')"
      ]
     },
     "execution_count": 18,
     "metadata": {},
     "output_type": "execute_result"
    }
   ],
   "source": [
    "np.zeros((2,3), dtype=\"str\") #Str tipinde iken boşluklar üretir, bool tipinde de False üretir çünkü 0 false'dır"
   ]
  },
  {
   "cell_type": "markdown",
   "id": "038c7955-ecfb-41fe-ab4e-796e2b75a151",
   "metadata": {},
   "source": [
    "<h1>Belirli elemanlardan array oluşturmak</h1>"
   ]
  },
  {
   "cell_type": "code",
   "execution_count": 8,
   "id": "c380c113-9bf5-417e-b069-a4b5e9995128",
   "metadata": {},
   "outputs": [
    {
     "name": "stdout",
     "output_type": "stream",
     "text": [
      "[[5 5 5]\n",
      " [5 5 5]]\n",
      "[5 5 5 5]\n"
     ]
    }
   ],
   "source": [
    "import numpy as np\n",
    "a= np.full((2,3),5) #sağda belirttiğimiz değer \"a\" gibi str bir değer de olabilirdi.\n",
    "b= np.full(4,5) #bir belirteç koymaığımızda da 4 adet 5 üreten bir sisteme sahip\n",
    "print(a)\n",
    "print(b)"
   ]
  },
  {
   "cell_type": "markdown",
   "id": "09cae9ab-da2e-4304-ad83-01d0c77a5d17",
   "metadata": {},
   "source": [
    "<h1>Ardışık sayılardan array oluşturmak</h1>"
   ]
  },
  {
   "cell_type": "code",
   "execution_count": 10,
   "id": "88c83bd1-0c91-46dc-ba2a-19eaf7a1cd76",
   "metadata": {},
   "outputs": [
    {
     "data": {
      "text/plain": [
       "array([0, 3, 6, 9])"
      ]
     },
     "execution_count": 10,
     "metadata": {},
     "output_type": "execute_result"
    }
   ],
   "source": [
    "np.arange(0,12,) #12 dahil değil"
   ]
  },
  {
   "cell_type": "code",
   "execution_count": 12,
   "id": "3991d548-86c5-4000-bd88-53508f6e89ef",
   "metadata": {},
   "outputs": [
    {
     "data": {
      "text/plain": [
       "array([ 0,  5, 10, 15])"
      ]
     },
     "execution_count": 12,
     "metadata": {},
     "output_type": "execute_result"
    }
   ],
   "source": [
    "np.arange(0,16,5) #artış sayısını da son parametre ile belirtebiliriz"
   ]
  },
  {
   "cell_type": "code",
   "execution_count": 4,
   "id": "8a6bbf2c-e078-4675-ad72-fbedfb07d427",
   "metadata": {},
   "outputs": [
    {
     "data": {
      "text/plain": [
       "array([12, 10,  8,  6,  4])"
      ]
     },
     "execution_count": 4,
     "metadata": {},
     "output_type": "execute_result"
    }
   ],
   "source": [
    "import numpy as np\n",
    "np.arange(12,2,-2) #başlangıçtaki sayı diğerinden küçükse negatif olarak o sayıya ulaşamayacağı için boş array döndürür"
   ]
  },
  {
   "cell_type": "markdown",
   "id": "7ea14d30-32e7-49e0-9a11-3a62e8efc795",
   "metadata": {},
   "source": [
    "<h1>Aralığı eşit olarak bölmek</h1>"
   ]
  },
  {
   "cell_type": "code",
   "execution_count": 16,
   "id": "46f6a2f2-66fc-4946-823f-faa08cbcca8b",
   "metadata": {},
   "outputs": [
    {
     "data": {
      "text/plain": [
       "array([1.        , 1.08163265, 1.16326531, 1.24489796, 1.32653061,\n",
       "       1.40816327, 1.48979592, 1.57142857, 1.65306122, 1.73469388,\n",
       "       1.81632653, 1.89795918, 1.97959184, 2.06122449, 2.14285714,\n",
       "       2.2244898 , 2.30612245, 2.3877551 , 2.46938776, 2.55102041,\n",
       "       2.63265306, 2.71428571, 2.79591837, 2.87755102, 2.95918367,\n",
       "       3.04081633, 3.12244898, 3.20408163, 3.28571429, 3.36734694,\n",
       "       3.44897959, 3.53061224, 3.6122449 , 3.69387755, 3.7755102 ,\n",
       "       3.85714286, 3.93877551, 4.02040816, 4.10204082, 4.18367347,\n",
       "       4.26530612, 4.34693878, 4.42857143, 4.51020408, 4.59183673,\n",
       "       4.67346939, 4.75510204, 4.83673469, 4.91836735, 5.        ])"
      ]
     },
     "execution_count": 16,
     "metadata": {},
     "output_type": "execute_result"
    }
   ],
   "source": [
    "np.linspace(1,5) #1 ve 5 dahil olmak üzere 50 adet eşit parça çıkaracak"
   ]
  },
  {
   "cell_type": "code",
   "execution_count": 18,
   "id": "c1656cbf-240a-4be1-818b-9f1e0701cedc",
   "metadata": {},
   "outputs": [
    {
     "data": {
      "text/plain": [
       "array([1., 3., 5.])"
      ]
     },
     "execution_count": 18,
     "metadata": {},
     "output_type": "execute_result"
    }
   ],
   "source": [
    "np.linspace(1,5,num=3) #kaç adet bölüm çıkaracağını da bu parametre ile çıkarabiliyoruz."
   ]
  },
  {
   "cell_type": "markdown",
   "id": "6441f5ef-22bc-47e0-a1dc-375f21d37c05",
   "metadata": {},
   "source": [
    "<h1>Normal dağılımdan örneklem almak</h1>\n",
    "- (ortalama, standart sapma, array boyutu)"
   ]
  },
  {
   "cell_type": "code",
   "execution_count": 19,
   "id": "18de16a1-91d8-4a7c-9771-ec4d3d93028b",
   "metadata": {},
   "outputs": [
    {
     "data": {
      "text/plain": [
       "array([[-124.31851402, -238.54052915,  -88.02260204,  -79.03217113,\n",
       "          15.80471818],\n",
       "       [  -2.74586083,   86.22530066,  -92.67458725,   81.94897434,\n",
       "         -32.26177144],\n",
       "       [  73.03500887,   59.94689946,  113.93365696, -156.94631933,\n",
       "         109.24746159],\n",
       "       [  95.02660625, -148.8773248 ,  -93.31364031,  -19.4270567 ,\n",
       "         140.86330067]])"
      ]
     },
     "execution_count": 19,
     "metadata": {},
     "output_type": "execute_result"
    }
   ],
   "source": [
    "np.random.normal(0,100,(4,5)) #ortalaması 0 standart sapması 100 olan bir örneklemden 4,5 boyutunda sayılar çıkaracak"
   ]
  },
  {
   "cell_type": "markdown",
   "id": "33b08cc6-ace0-432a-b083-6a775ca21647",
   "metadata": {},
   "source": [
    "<h1>Random sayılardan array oluşturmak</h1>"
   ]
  },
  {
   "cell_type": "code",
   "execution_count": 21,
   "id": "5426361e-2d00-4c60-b255-1dd2bac5ae0a",
   "metadata": {},
   "outputs": [
    {
     "data": {
      "text/plain": [
       "array([[6, 7, 4, 2],\n",
       "       [4, 3, 4, 1],\n",
       "       [9, 3, 2, 2]])"
      ]
     },
     "execution_count": 21,
     "metadata": {},
     "output_type": "execute_result"
    }
   ],
   "source": [
    "np.random.randint(1,10,(3,4)) #1 ile 9 arasında 3,4lük array (yine son sayı dahil değil)"
   ]
  },
  {
   "cell_type": "markdown",
   "id": "6f8fd514-d0e2-4a6e-a489-2dc0a088c64e",
   "metadata": {},
   "source": [
    "<h1>Birim matris oluşturmak</h1>"
   ]
  },
  {
   "cell_type": "code",
   "execution_count": 22,
   "id": "42249752-7221-4c5c-a35a-1fd5acdb84ab",
   "metadata": {},
   "outputs": [
    {
     "data": {
      "text/plain": [
       "array([[1., 0., 0., 0., 0.],\n",
       "       [0., 1., 0., 0., 0.],\n",
       "       [0., 0., 1., 0., 0.]])"
      ]
     },
     "execution_count": 22,
     "metadata": {},
     "output_type": "execute_result"
    }
   ],
   "source": [
    "np.eye(3,5)"
   ]
  },
  {
   "cell_type": "markdown",
   "id": "97066549-6acc-4071-9e50-9e8fd6f3aeef",
   "metadata": {},
   "source": [
    "- **Listeler birbirleri ile operate edilemezken numpy arrayleri edilebilir**\n",
    "- **eleman bazlı olarak çarpma toplama işlemleri yapılabilir.**"
   ]
  },
  {
   "cell_type": "code",
   "execution_count": 27,
   "id": "6cc95069-8453-4840-ab18-6f492aab3e82",
   "metadata": {},
   "outputs": [
    {
     "name": "stdout",
     "output_type": "stream",
     "text": [
      "[ 6  8 10 12]\n",
      "[ 3  6  9 12]\n"
     ]
    }
   ],
   "source": [
    "x = np.array([1,2,3,4])\n",
    "y = np.array([5,6,7,8])\n",
    "print(x+y)\n",
    "print(x*3)\n",
    "#Eleman sayısı aynı olmalıdır"
   ]
  },
  {
   "cell_type": "markdown",
   "id": "749c31fa-02b0-4a2c-b2e0-cd724b334b45",
   "metadata": {},
   "source": [
    "<h1>Reshape</h1>\n",
    "reshape edilen size ile dönüştürülen size eşit olmalı. 10 birimi (2,6) olarak dönüştüremeyiz mesela\n"
   ]
  },
  {
   "cell_type": "code",
   "execution_count": 35,
   "id": "75879ca6-fe20-416e-818f-12933ebd580d",
   "metadata": {},
   "outputs": [
    {
     "data": {
      "text/plain": [
       "array([[ 1,  2,  3,  4,  5],\n",
       "       [ 6,  7,  8,  9, 10]])"
      ]
     },
     "execution_count": 35,
     "metadata": {},
     "output_type": "execute_result"
    }
   ],
   "source": [
    "a = np.arange(1,11)\n",
    "a.reshape(2,5) #tek boyuttan 2ye 5lik bir arraye dönüştürdük"
   ]
  },
  {
   "cell_type": "code",
   "execution_count": 36,
   "id": "acbaaac4-77eb-468f-8eea-b4bc92ee2772",
   "metadata": {},
   "outputs": [
    {
     "data": {
      "text/plain": [
       "array([[ 1,  2,  3,  4],\n",
       "       [ 5,  6,  7,  8],\n",
       "       [ 9, 10, 11, 12],\n",
       "       [13, 14, 15, 16],\n",
       "       [17, 18, 19, 20]])"
      ]
     },
     "execution_count": 36,
     "metadata": {},
     "output_type": "execute_result"
    }
   ],
   "source": [
    "a = np.arange(1,21)\n",
    "a.reshape(-1,4) #-1 burada x gibi. yani 4 ile hangi sayı bunu resahpe eder onu python'a bırakıyoruz kendi buluyor"
   ]
  },
  {
   "cell_type": "markdown",
   "id": "8842772a-cf5d-40e2-9a1c-09095a7c605c",
   "metadata": {},
   "source": [
    "<h1>CONCATENTAION</h1>\n",
    "Arrayleri birbirine eklemek\n",
    "Farklı dtype'a sahip arrayler eklenirken hepsi bir türe dönüşür"
   ]
  },
  {
   "cell_type": "code",
   "execution_count": 40,
   "id": "97db3734-a525-4bf8-bb80-7f59387edc4c",
   "metadata": {},
   "outputs": [
    {
     "data": {
      "text/plain": [
       "array([ 1,  2,  3,  4,  5,  6,  7,  8, 11, 12])"
      ]
     },
     "execution_count": 40,
     "metadata": {},
     "output_type": "execute_result"
    }
   ],
   "source": [
    "a = np.array([1,2,3,4])\n",
    "b = np.array([5,6,7,8])\n",
    "c = (11,12)\n",
    "np.concatenate([a,b,c])"
   ]
  },
  {
   "cell_type": "markdown",
   "id": "6aec34b4-8058-42f9-b47b-b9a158e14414",
   "metadata": {},
   "source": [
    "<h1>SPLITTING</h1>\n"
   ]
  },
  {
   "cell_type": "markdown",
   "id": "849b9ca5-1023-4583-ae70-26d97f159612",
   "metadata": {},
   "source": [
    "- **verilen index değerleri için bir aralık oluşturup oradan bölüyor tüm array'i. Listelerde de çalışır**"
   ]
  },
  {
   "cell_type": "code",
   "execution_count": 8,
   "id": "4b039b96-88e2-4d04-8a84-1bedecf96521",
   "metadata": {},
   "outputs": [
    {
     "data": {
      "text/plain": [
       "[array([0, 1, 2, 3, 4]),\n",
       " array([5, 6, 7, 8]),\n",
       " array([ 9, 10, 11, 12, 13, 14, 15, 16, 17, 18, 19, 20])]"
      ]
     },
     "execution_count": 8,
     "metadata": {},
     "output_type": "execute_result"
    }
   ],
   "source": [
    "import numpy as np\n",
    "a = np.arange(0,21)\n",
    "np.split(a,[5,9])"
   ]
  },
  {
   "cell_type": "code",
   "execution_count": 11,
   "id": "73ba3458-951d-463f-9b1c-b7569a1316d5",
   "metadata": {},
   "outputs": [
    {
     "data": {
      "text/plain": [
       "[array([[0, 1, 2, 3],\n",
       "        [4, 5, 6, 7]]),\n",
       " array([[ 8,  9, 10, 11]]),\n",
       " array([[12, 13, 14, 15],\n",
       "        [16, 17, 18, 19]])]"
      ]
     },
     "execution_count": 11,
     "metadata": {},
     "output_type": "execute_result"
    }
   ],
   "source": [
    "a=np.arange(20).reshape(5,4)\n",
    "np.vsplit(a,[2,3]) #vertical veya horizonal split yapılabilir. Burada vertical olarak böldük. Netten ekstra örneklere bakarsın"
   ]
  },
  {
   "cell_type": "markdown",
   "id": "b27ee5fb-cc0d-438d-946f-599bb163b35f",
   "metadata": {},
   "source": [
    "<h1>SORT</h1>"
   ]
  },
  {
   "cell_type": "code",
   "execution_count": 13,
   "id": "5512eeb9-e519-4ba4-afd6-59329b8af6ad",
   "metadata": {},
   "outputs": [
    {
     "data": {
      "text/plain": [
       "array([ 3,  4, 12, 12, 23, 34, 34, 56, 76])"
      ]
     },
     "execution_count": 13,
     "metadata": {},
     "output_type": "execute_result"
    }
   ],
   "source": [
    "a = np.array([23,12,34,56,76,12,3,4,34])\n",
    "np.sort(a)"
   ]
  },
  {
   "cell_type": "code",
   "execution_count": 14,
   "id": "b2f06b66-96f7-4931-a5c9-45778627d7e4",
   "metadata": {},
   "outputs": [
    {
     "data": {
      "text/plain": [
       "array([23, 12, 34, 56, 76, 12,  3,  4, 34])"
      ]
     },
     "execution_count": 14,
     "metadata": {},
     "output_type": "execute_result"
    }
   ],
   "source": [
    "a"
   ]
  },
  {
   "cell_type": "code",
   "execution_count": 17,
   "id": "05600419-88b3-429e-bc1a-95387d321b10",
   "metadata": {},
   "outputs": [],
   "source": [
    "a.sort()  #a verisini güncelledi diğerinde yalnızca np.sort(a) yaptığızda sıralı veriyordu"
   ]
  },
  {
   "cell_type": "code",
   "execution_count": 16,
   "id": "04facd07-deb6-44c7-a770-079a2c32e267",
   "metadata": {},
   "outputs": [
    {
     "data": {
      "text/plain": [
       "array([ 3,  4, 12, 12, 23, 34, 34, 56, 76])"
      ]
     },
     "execution_count": 16,
     "metadata": {},
     "output_type": "execute_result"
    }
   ],
   "source": [
    "a\n"
   ]
  },
  {
   "cell_type": "markdown",
   "id": "4bb7ed7c-4c82-4c22-965e-23cb6210b02f",
   "metadata": {},
   "source": [
    "<h1>MULTIDIMENTONAL INDEXLERE ULAŞMA</h1>"
   ]
  },
  {
   "cell_type": "code",
   "execution_count": 29,
   "id": "7287642b-7390-42d9-bd9e-28b9d6d69ae5",
   "metadata": {},
   "outputs": [
    {
     "name": "stdout",
     "output_type": "stream",
     "text": [
      "[[ 1  2  3  4  5  6  7  8  9 10]\n",
      " [11 12 13 14 15 16 17 18 19 20]\n",
      " [21 22 23 24 25 26 27 28 29 30]\n",
      " [31 32 33 34 35 36 37 38 39 40]]\n"
     ]
    }
   ],
   "source": [
    "x = np.arange(1,41).reshape(4,10)\n",
    "print(x)"
   ]
  },
  {
   "cell_type": "code",
   "execution_count": 31,
   "id": "b669abd1-e5ef-4aaa-9f1e-272b73adff30",
   "metadata": {},
   "outputs": [
    {
     "data": {
      "text/plain": [
       "14"
      ]
     },
     "execution_count": 31,
     "metadata": {},
     "output_type": "execute_result"
    }
   ],
   "source": [
    "x = np.arange(1,41).reshape(4,10)\n",
    "x[1,3]    #[1. index yani 2. rowdaki 3.index yani 4. elemanı getirdi"
   ]
  },
  {
   "cell_type": "code",
   "execution_count": 34,
   "id": "d028967e-bcd1-45ab-8a3f-84f48626960e",
   "metadata": {},
   "outputs": [
    {
     "data": {
      "text/plain": [
       "array([[ 1,  2,  3,  4],\n",
       "       [ 5,  6,  7,  8],\n",
       "       [ 9, 10, 11, 12]])"
      ]
     },
     "execution_count": 34,
     "metadata": {},
     "output_type": "execute_result"
    }
   ],
   "source": [
    "a=np.arange(1,13).reshape(3,4)\n",
    "a[::1]"
   ]
  },
  {
   "cell_type": "code",
   "execution_count": 41,
   "id": "e309ac0e-8396-46ef-b64d-d9cf37809b29",
   "metadata": {},
   "outputs": [
    {
     "data": {
      "text/plain": [
       "array([[ 1,  2,  3,  4],\n",
       "       [ 9, 10, 11, 12]])"
      ]
     },
     "execution_count": 41,
     "metadata": {},
     "output_type": "execute_result"
    }
   ],
   "source": [
    "a=np.arange(1,13).reshape(3,4)\n",
    "a[::2]"
   ]
  },
  {
   "cell_type": "markdown",
   "id": "82a1d941-c9d6-4905-b6c3-d8aa6aa934c3",
   "metadata": {},
   "source": [
    "- **spesifik belirterek de indexleme yapabiliriz**"
   ]
  },
  {
   "cell_type": "code",
   "execution_count": 42,
   "id": "3d44b7a7-13df-4883-9314-6490201a9852",
   "metadata": {},
   "outputs": [
    {
     "data": {
      "text/plain": [
       "array([3, 4, 7])"
      ]
     },
     "execution_count": 42,
     "metadata": {},
     "output_type": "execute_result"
    }
   ],
   "source": [
    "x=np.arange(1,13)\n",
    "indexler = [2,3,6]\n",
    "x[indexler]"
   ]
  },
  {
   "cell_type": "code",
   "execution_count": 5,
   "id": "a779df56-fffa-4c36-aeee-fa92cf1c77d2",
   "metadata": {},
   "outputs": [
    {
     "name": "stdout",
     "output_type": "stream",
     "text": [
      "seni seviyorum kerem\n",
      "seni seviyorum kerem\n",
      "seni seviyorum kerem\n",
      "seni seviyorum kerem\n",
      "seni seviyorum kerem\n",
      "seni seviyorum kerem\n",
      "seni seviyorum kerem\n",
      "seni seviyorum kerem\n",
      "seni seviyorum kerem\n",
      "seni seviyorum kerem\n",
      "seni seviyorum kerem\n",
      "seni seviyorum kerem\n",
      "seni seviyorum kerem\n",
      "seni seviyorum kerem\n",
      "seni seviyorum kerem\n",
      "seni seviyorum kerem\n",
      "seni seviyorum kerem\n",
      "seni seviyorum kerem\n",
      "seni seviyorum kerem\n",
      "seni seviyorum kerem\n"
     ]
    }
   ],
   "source": [
    "for i in range(20):\n",
    "    print(\"seni seviyorum kerem\")"
   ]
  },
  {
   "cell_type": "markdown",
   "id": "3b51ad13-e1b2-4054-a689-8ac1f198f80a",
   "metadata": {},
   "source": [
    "<h1>Filtreleme ve toplama</h1>"
   ]
  },
  {
   "cell_type": "code",
   "execution_count": 50,
   "id": "418f3eba-49c6-4444-b953-1ad3c00e091c",
   "metadata": {},
   "outputs": [
    {
     "data": {
      "text/plain": [
       "array([-5, -4, -3, -2, -1])"
      ]
     },
     "execution_count": 50,
     "metadata": {},
     "output_type": "execute_result"
    }
   ],
   "source": [
    "x=np.arange(-5,3).reshape(2,4)\n",
    "x[x<0]"
   ]
  },
  {
   "cell_type": "code",
   "execution_count": 54,
   "id": "a266bb2e-2f57-4d23-997e-cfe6be33921c",
   "metadata": {},
   "outputs": [
    {
     "data": {
      "text/plain": [
       "array([False, False, False, False,  True,  True,  True,  True,  True,\n",
       "        True,  True])"
      ]
     },
     "execution_count": 54,
     "metadata": {},
     "output_type": "execute_result"
    }
   ],
   "source": [
    "a = np.arange(0,11)\n",
    "filt= a>3\n",
    "filt\n",
    "#koşulu sağlayanlar için true diğerleri için false döndürdü"
   ]
  },
  {
   "cell_type": "code",
   "execution_count": 56,
   "id": "c616c454-51c6-49ba-8acb-f9721e2a6f9c",
   "metadata": {},
   "outputs": [
    {
     "data": {
      "text/plain": [
       "5"
      ]
     },
     "execution_count": 56,
     "metadata": {},
     "output_type": "execute_result"
    }
   ],
   "source": [
    "x=np.arange(-5,3)\n",
    "np.sum(x<0) #burada da aslında koşula uyan kaç değer olduğunu görüyoruz çünkü true'ları sayıyor"
   ]
  },
  {
   "cell_type": "code",
   "execution_count": 58,
   "id": "2379fcd8-dc0d-4021-b4e2-3729ef9a13f9",
   "metadata": {},
   "outputs": [
    {
     "data": {
      "text/plain": [
       "-12"
      ]
     },
     "execution_count": 58,
     "metadata": {},
     "output_type": "execute_result"
    }
   ],
   "source": [
    "x=np.arange(-5,3)\n",
    "np.sum(x) #bu da basitçe toplama işlemi"
   ]
  },
  {
   "cell_type": "code",
   "execution_count": 59,
   "id": "ff2e8b5a-d8b6-410a-8a61-87d617a0936f",
   "metadata": {},
   "outputs": [
    {
     "data": {
      "text/plain": [
       "array([[ 1,  2,  3,  4,  5],\n",
       "       [ 6,  7,  8,  9, 10],\n",
       "       [11, 12, 13, 14, 15],\n",
       "       [16, 17, 18, 19, 20]])"
      ]
     },
     "execution_count": 59,
     "metadata": {},
     "output_type": "execute_result"
    }
   ],
   "source": [
    "a=np.arange(1,21).reshape(4,5)\n",
    "a"
   ]
  },
  {
   "cell_type": "markdown",
   "id": "d5fdbe54-3a07-4232-8bbd-990f11df98f9",
   "metadata": {},
   "source": [
    "- **Axis 1 yani rowlara bakıyor. İlk rowda hepsi 8den küçük yani false. Aynı şekilde 2. row da öyle**\n",
    "- **.all metodu true false olarak çalışır ve tüm veriyi analiz eder. 2. satırda 8den büyük değerler vardı ama tüm rowu kaplamıyordu**"
   ]
  },
  {
   "cell_type": "code",
   "execution_count": 60,
   "id": "ad8c011e-5275-451d-b32f-033c4165290c",
   "metadata": {},
   "outputs": [
    {
     "data": {
      "text/plain": [
       "array([False, False,  True,  True])"
      ]
     },
     "execution_count": 60,
     "metadata": {},
     "output_type": "execute_result"
    }
   ],
   "source": [
    "np.all(a>8,axis=1) "
   ]
  },
  {
   "cell_type": "markdown",
   "id": "3a13d34e-85fc-48d2-9854-af957cdb0616",
   "metadata": {},
   "source": [
    "- **np.all yerine np.any kullandığımızda bir true varsa o zaman hepsini true döndürüyor. all a çok benziyor**\n"
   ]
  },
  {
   "cell_type": "code",
   "execution_count": 62,
   "id": "109fbae5-fd81-4b43-a934-3de1a1daf3a2",
   "metadata": {},
   "outputs": [
    {
     "data": {
      "text/plain": [
       "array([False,  True,  True,  True])"
      ]
     },
     "execution_count": 62,
     "metadata": {},
     "output_type": "execute_result"
    }
   ],
   "source": [
    "np.any(a>8,axis=1)"
   ]
  },
  {
   "cell_type": "code",
   "execution_count": null,
   "id": "a6fd56ed-9e69-4646-917b-c5ecc9e34b89",
   "metadata": {},
   "outputs": [],
   "source": []
  },
  {
   "cell_type": "code",
   "execution_count": null,
   "id": "ac863a4a-0e34-499e-b0b4-065bcf56a40a",
   "metadata": {},
   "outputs": [],
   "source": []
  }
 ],
 "metadata": {
  "kernelspec": {
   "display_name": "Python 3 (ipykernel)",
   "language": "python",
   "name": "python3"
  },
  "language_info": {
   "codemirror_mode": {
    "name": "ipython",
    "version": 3
   },
   "file_extension": ".py",
   "mimetype": "text/x-python",
   "name": "python",
   "nbconvert_exporter": "python",
   "pygments_lexer": "ipython3",
   "version": "3.9.6"
  }
 },
 "nbformat": 4,
 "nbformat_minor": 5
}
