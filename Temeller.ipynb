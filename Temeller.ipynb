{
 "cells": [
  {
   "cell_type": "markdown",
   "id": "3c4897b1-b756-41d7-b5c9-6f8c44ba2ddc",
   "metadata": {},
   "source": [
    "<h1>Ortalama(mean), Ortanca(median),Mod(mod),Standart Sapma(Standart Deviation), Varyans(Variance)</h1>"
   ]
  },
  {
   "cell_type": "code",
   "execution_count": null,
   "id": "5f60caee-a37e-4c64-bd25-e527f00bc022",
   "metadata": {},
   "outputs": [],
   "source": [
    "import numpy as np\n",
    "from scipy import stats"
   ]
  },
  {
   "cell_type": "code",
   "execution_count": null,
   "id": "08b9637b-1ce2-4df5-b5be-18545dd45feb",
   "metadata": {},
   "outputs": [],
   "source": [
    "speed = [99,86,87,88,111,86,103,87,94,78,77,85,86]\n",
    "mean = np.mean(speed)\n",
    "median = np.median(speed)\n",
    "mode = stats.mode(speed)\n",
    "print(mean,median,mode)"
   ]
  },
  {
   "cell_type": "markdown",
   "id": "abc5a99a-eb28-44a6-b560-56223b5e27e4",
   "metadata": {},
   "source": [
    "- **Veri setinin ortalamasını bulun.**\n",
    "- **Her bir veri noktasının ortalamadan farkını bulun ve karelerini alın.**\n",
    "- **Bu karelerin ortalamasını alın.**\n",
    "- **Son olarak, bu değerin karekökünü alarak standart sapmayı bulun.**"
   ]
  },
  {
   "cell_type": "code",
   "execution_count": null,
   "id": "55071f33-b694-4768-a95f-fd7f37be5649",
   "metadata": {},
   "outputs": [],
   "source": [
    "std = np.std(speed)\n",
    "print(std)"
   ]
  },
  {
   "cell_type": "code",
   "execution_count": null,
   "id": "f332a432-b548-4323-b042-816757063eec",
   "metadata": {},
   "outputs": [],
   "source": [
    "#standart sapmanın karesi ise varyansı ifade eder\n",
    "var = np.var(speed)\n",
    "print(var)"
   ]
  },
  {
   "cell_type": "markdown",
   "id": "2895ddc6-17da-4436-b864-09e9a67d52ab",
   "metadata": {},
   "source": [
    "<h1>Yüzdelik (Percentile)</h1>"
   ]
  },
  {
   "cell_type": "code",
   "execution_count": null,
   "id": "b62c9983-67cf-4249-a2f1-e2235f428865",
   "metadata": {},
   "outputs": [],
   "source": [
    "ages = [5,31,43,48,50,41,7,11,15,39,80,82,32,2,8,6,25,36,27,61,31]\n",
    "pr = np.percentile(ages,75)\n",
    "print(pr)"
   ]
  },
  {
   "cell_type": "markdown",
   "id": "932d9695-db8c-4573-a889-2480f4a14e6e",
   "metadata": {},
   "source": [
    "75. yüzdelik 43'e denk geliyormuş yani popülasyonun yüzde 75i 43 yaşında veya daha da genç"
   ]
  },
  {
   "cell_type": "markdown",
   "id": "c8ff8001-d522-43d8-a87f-7134373fab49",
   "metadata": {},
   "source": [
    "<h1>Örnek</h1>"
   ]
  },
  {
   "cell_type": "code",
   "execution_count": null,
   "id": "9b2008ba-b1ab-4cc1-a103-a957427f7b54",
   "metadata": {},
   "outputs": [],
   "source": [
    "import matplotlib.pyplot as plt\n",
    "import numpy as np"
   ]
  },
  {
   "cell_type": "code",
   "execution_count": null,
   "id": "5a2702aa-d376-47ba-938c-f951ed20b97b",
   "metadata": {},
   "outputs": [],
   "source": [
    "data = np.random.uniform(1.0,100.0,100) #1 ile 10 arasında 100 sayı\n",
    "plt.hist(data,10) #10 burada bar sayısı\n",
    "plt.show()"
   ]
  },
  {
   "cell_type": "markdown",
   "id": "c1014dea-2892-42cb-b964-f0f0e1c58519",
   "metadata": {},
   "source": [
    "<h1>Normal dağılım gösterecek bir grafik</h1>"
   ]
  },
  {
   "cell_type": "code",
   "execution_count": null,
   "id": "f5bd2c4d-ab2d-4bee-b00b-24e9687b0573",
   "metadata": {},
   "outputs": [],
   "source": [
    "normal = np.random.normal(5.0, 1.0, 100000)\n",
    "plt.hist(normal,100)\n",
    "plt.show()"
   ]
  },
  {
   "cell_type": "markdown",
   "id": "77aa7535-4aa3-43f0-85e8-8c64e3ae56d2",
   "metadata": {},
   "source": [
    "<h1>Saçılım grafiği (Scatter Plot)</h1>"
   ]
  },
  {
   "cell_type": "code",
   "execution_count": null,
   "id": "b0153689-6435-4f4e-931c-1e1ebd2e1697",
   "metadata": {},
   "outputs": [],
   "source": [
    "x = [5,7,8,7,2,17,2,9,4,11,12,9,6] #araçların yaşı olsun\n",
    "y = [99,86,87,88,111,86,103,87,94,78,77,85,86] #her bir aracın hızı\n",
    "plt.scatter(x,y)\n",
    "plt.show()"
   ]
  },
  {
   "cell_type": "code",
   "execution_count": null,
   "id": "dedcbe89-1b3b-4972-b4bb-c8426f3c9dc2",
   "metadata": {},
   "outputs": [],
   "source": [
    "x = np.random.normal(5.0, 1.0, 1000)\n",
    "y = np.random.normal(10.0, 2.0, 1000)\n",
    "plt.scatter(x,y)\n",
    "plt.show()"
   ]
  },
  {
   "cell_type": "markdown",
   "id": "02fee2d0-a82e-48ce-95f6-a259d4127d81",
   "metadata": {},
   "source": [
    "<h1>Linear Regression</h1>\n",
    "<h2>In Machine Learning, and in statistical modeling, that relationship is used to predict the outcome of future events.</h2>"
   ]
  },
  {
   "cell_type": "code",
   "execution_count": null,
   "id": "02f8a94c-7b1b-4704-ae37-6bf198a86e98",
   "metadata": {},
   "outputs": [],
   "source": [
    "import matplotlib.pyplot as plt\n",
    "from scipy import stats\n",
    "\n",
    "x = [5,7,8,7,2,17,2,9,4,11,12,9,6]\n",
    "y = [99,86,87,88,111,86,103,87,94,78,77,85,86]\n",
    "\n",
    "slope, intercept, r, p, std_err = stats.linregress(x, y)\n",
    "\n",
    "def myfunc(x):\n",
    "  return slope * x + intercept\n",
    "\n",
    "mymodel = list(map(myfunc, x))\n",
    "\n",
    "plt.scatter(x, y)\n",
    "plt.plot(x, mymodel)\n",
    "plt.show()"
   ]
  },
  {
   "cell_type": "markdown",
   "id": "a068e584-5215-401a-86db-49a4e5ed7e71",
   "metadata": {},
   "source": [
    "- **Verilen eğim (slope) ve kesme noktası (intercept) değerlerini kullanarak, karşılık gelen bir x değerinin yerleştirileceği y-eksenindeki yeni bir değeri döndüren bir fonksiyon oluşturduk**"
   ]
  },
  {
   "cell_type": "markdown",
   "id": "c1f3917c-7b13-486f-96a5-34e963c500a9",
   "metadata": {},
   "source": [
    "<h1>y=bx+a formülü aslında bu. Y regresyon doğrusu, b eğim ve a x eksenini kesen y değeri </h1>"
   ]
  },
  {
   "cell_type": "markdown",
   "id": "2a370d7b-f71b-4dcd-b4ff-f503cdd12c97",
   "metadata": {},
   "source": [
    "<h1>Korelasyon katsayısı (r)</h1>"
   ]
  },
  {
   "cell_type": "code",
   "execution_count": null,
   "id": "580212c0-b88e-49f7-8cf5-b3d7e07badb5",
   "metadata": {},
   "outputs": [],
   "source": [
    "from scipy import stats\n",
    "\n",
    "x = [5,7,8,7,2,17,2,9,4,11,12,9,6]\n",
    "y = [99,86,87,88,111,86,103,87,94,78,77,85,86]\n",
    "\n",
    "slope, intercept, r, p, std_err = stats.linregress(x, y)\n",
    "\n",
    "print(r)\n",
    "#r korelasyon katsayısı. -1 ile 1 arasında gider. 0 ilişki yok demektir. Uçlara ne kadar yakınsa ilişki o kadar yüksektir. Çift yönlüdür"
   ]
  },
  {
   "cell_type": "markdown",
   "id": "b5c2471a-33b4-4c78-b6b6-8d3321898aae",
   "metadata": {},
   "source": [
    "<h1>Modelin başka türlü kullanımı</h1>"
   ]
  },
  {
   "cell_type": "code",
   "execution_count": null,
   "id": "cf1638b3-199b-4fe4-ba46-236abba03902",
   "metadata": {},
   "outputs": [],
   "source": [
    "from scipy import stats\n",
    "\n",
    "x = [5,7,8,7,2,17,2,9,4,11,12,9,6]\n",
    "y = [99,86,87,88,111,86,103,87,94,78,77,85,86]\n",
    "\n",
    "slope, intercept, r, p, std_err = stats.linregress(x, y)\n",
    "\n",
    "def myfunc(x):\n",
    "  return slope * x + intercept\n",
    "#10 yaşındaki bir arabanın hız regresyonu\n",
    "speed = myfunc(10)\n",
    "\n",
    "print(speed)"
   ]
  },
  {
   "cell_type": "markdown",
   "id": "5fa565e4-b48c-4348-8d63-d4879720e19e",
   "metadata": {},
   "source": [
    "<h1>r değeri düşük veriler lineer regresyon için uyumlu değildir. Örnek:</h1>"
   ]
  },
  {
   "cell_type": "code",
   "execution_count": null,
   "id": "7b2a0301-4859-4697-a475-6afed0e14e23",
   "metadata": {},
   "outputs": [],
   "source": [
    "import numpy\n",
    "from scipy import stats\n",
    "\n",
    "x = [89,43,36,36,95,10,66,34,38,20,26,29,48,64,6,5,36,66,72,40]\n",
    "y = [21,46,3,35,67,95,53,72,58,10,26,34,90,33,38,20,56,2,47,15]\n",
    "\n",
    "slope, intercept, r, p, std_err = stats.linregress(x, y)\n",
    "def myfunc(x):\n",
    "  return slope * x + intercept\n",
    "\n",
    "mymodel = list(map(myfunc, x))\n",
    "\n",
    "plt.scatter(x, y)\n",
    "plt.plot(x, mymodel)\n",
    "plt.show()\n",
    "print(r)"
   ]
  },
  {
   "cell_type": "code",
   "execution_count": null,
   "id": "fd4b65cf-918d-40d2-bf11-28db4b5a755c",
   "metadata": {},
   "outputs": [],
   "source": []
  }
 ],
 "metadata": {
  "kernelspec": {
   "display_name": "Python 3 (ipykernel)",
   "language": "python",
   "name": "python3"
  },
  "language_info": {
   "codemirror_mode": {
    "name": "ipython",
    "version": 3
   },
   "file_extension": ".py",
   "mimetype": "text/x-python",
   "name": "python",
   "nbconvert_exporter": "python",
   "pygments_lexer": "ipython3",
   "version": "3.9.6"
  }
 },
 "nbformat": 4,
 "nbformat_minor": 5
}
