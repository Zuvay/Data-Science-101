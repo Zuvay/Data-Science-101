{
 "cells": [
  {
   "cell_type": "code",
   "execution_count": 1,
   "id": "562b2195-2b6b-479a-b9d8-953e61d62546",
   "metadata": {},
   "outputs": [],
   "source": [
    "import pandas as pd\n",
    "import numpy as np"
   ]
  },
  {
   "cell_type": "code",
   "execution_count": 2,
   "id": "f5c2141a-788a-4cf5-8b1e-4c698b1a8291",
   "metadata": {},
   "outputs": [],
   "source": [
    "df = pd.read_feather(\"tmp/Bulldozers_1\")"
   ]
  },
  {
   "cell_type": "markdown",
   "id": "596483fa-afef-4e73-89cc-bd3c35e9ff32",
   "metadata": {},
   "source": [
    "<h1>Missing Value</h1>"
   ]
  },
  {
   "cell_type": "code",
   "execution_count": 3,
   "id": "8d77f2b0-72a0-4303-aec2-93dbed17d907",
   "metadata": {},
   "outputs": [],
   "source": [
    "d = {\"a\":[1,2,3,4,4,np.nan], \"b\":[1,2,3,3,4,5]}\n",
    "toy = pd.DataFrame(d)"
   ]
  },
  {
   "cell_type": "code",
   "execution_count": 4,
   "id": "9da2efbf-e949-44ba-ba18-2946eb1014b7",
   "metadata": {},
   "outputs": [
    {
     "data": {
      "text/html": [
       "<div>\n",
       "<style scoped>\n",
       "    .dataframe tbody tr th:only-of-type {\n",
       "        vertical-align: middle;\n",
       "    }\n",
       "\n",
       "    .dataframe tbody tr th {\n",
       "        vertical-align: top;\n",
       "    }\n",
       "\n",
       "    .dataframe thead th {\n",
       "        text-align: right;\n",
       "    }\n",
       "</style>\n",
       "<table border=\"1\" class=\"dataframe\">\n",
       "  <thead>\n",
       "    <tr style=\"text-align: right;\">\n",
       "      <th></th>\n",
       "      <th>a</th>\n",
       "      <th>b</th>\n",
       "    </tr>\n",
       "  </thead>\n",
       "  <tbody>\n",
       "    <tr>\n",
       "      <th>0</th>\n",
       "      <td>1.0</td>\n",
       "      <td>1</td>\n",
       "    </tr>\n",
       "    <tr>\n",
       "      <th>1</th>\n",
       "      <td>2.0</td>\n",
       "      <td>2</td>\n",
       "    </tr>\n",
       "    <tr>\n",
       "      <th>2</th>\n",
       "      <td>3.0</td>\n",
       "      <td>3</td>\n",
       "    </tr>\n",
       "    <tr>\n",
       "      <th>3</th>\n",
       "      <td>4.0</td>\n",
       "      <td>3</td>\n",
       "    </tr>\n",
       "    <tr>\n",
       "      <th>4</th>\n",
       "      <td>4.0</td>\n",
       "      <td>4</td>\n",
       "    </tr>\n",
       "    <tr>\n",
       "      <th>5</th>\n",
       "      <td>NaN</td>\n",
       "      <td>5</td>\n",
       "    </tr>\n",
       "  </tbody>\n",
       "</table>\n",
       "</div>"
      ],
      "text/plain": [
       "     a  b\n",
       "0  1.0  1\n",
       "1  2.0  2\n",
       "2  3.0  3\n",
       "3  4.0  3\n",
       "4  4.0  4\n",
       "5  NaN  5"
      ]
     },
     "execution_count": 4,
     "metadata": {},
     "output_type": "execute_result"
    }
   ],
   "source": [
    "toy"
   ]
  },
  {
   "cell_type": "code",
   "execution_count": 5,
   "id": "5734ce98-50b7-41f0-b303-08695e8ba8db",
   "metadata": {},
   "outputs": [
    {
     "data": {
      "text/html": [
       "<div>\n",
       "<style scoped>\n",
       "    .dataframe tbody tr th:only-of-type {\n",
       "        vertical-align: middle;\n",
       "    }\n",
       "\n",
       "    .dataframe tbody tr th {\n",
       "        vertical-align: top;\n",
       "    }\n",
       "\n",
       "    .dataframe thead th {\n",
       "        text-align: right;\n",
       "    }\n",
       "</style>\n",
       "<table border=\"1\" class=\"dataframe\">\n",
       "  <thead>\n",
       "    <tr style=\"text-align: right;\">\n",
       "      <th></th>\n",
       "      <th>a</th>\n",
       "      <th>b</th>\n",
       "    </tr>\n",
       "  </thead>\n",
       "  <tbody>\n",
       "    <tr>\n",
       "      <th>0</th>\n",
       "      <td>False</td>\n",
       "      <td>False</td>\n",
       "    </tr>\n",
       "    <tr>\n",
       "      <th>1</th>\n",
       "      <td>False</td>\n",
       "      <td>False</td>\n",
       "    </tr>\n",
       "    <tr>\n",
       "      <th>2</th>\n",
       "      <td>False</td>\n",
       "      <td>False</td>\n",
       "    </tr>\n",
       "    <tr>\n",
       "      <th>3</th>\n",
       "      <td>False</td>\n",
       "      <td>False</td>\n",
       "    </tr>\n",
       "    <tr>\n",
       "      <th>4</th>\n",
       "      <td>False</td>\n",
       "      <td>False</td>\n",
       "    </tr>\n",
       "    <tr>\n",
       "      <th>5</th>\n",
       "      <td>True</td>\n",
       "      <td>False</td>\n",
       "    </tr>\n",
       "  </tbody>\n",
       "</table>\n",
       "</div>"
      ],
      "text/plain": [
       "       a      b\n",
       "0  False  False\n",
       "1  False  False\n",
       "2  False  False\n",
       "3  False  False\n",
       "4  False  False\n",
       "5   True  False"
      ]
     },
     "execution_count": 5,
     "metadata": {},
     "output_type": "execute_result"
    }
   ],
   "source": [
    "toy.isnull()"
   ]
  },
  {
   "cell_type": "code",
   "execution_count": 9,
   "id": "9ffc147c-5429-4f11-b1e7-a9883a007e48",
   "metadata": {},
   "outputs": [
    {
     "data": {
      "text/plain": [
       "1"
      ]
     },
     "execution_count": 9,
     "metadata": {},
     "output_type": "execute_result"
    }
   ],
   "source": [
    "pd.isnull(toy[\"a\"]).sum() # a kolonunda missing veri sayısı"
   ]
  },
  {
   "cell_type": "code",
   "execution_count": 11,
   "id": "6f4a0a52-c967-4a36-b861-41f3ee9ad3da",
   "metadata": {},
   "outputs": [],
   "source": [
    "from pandas.api.types import is_numeric_dtype\n",
    "def fix_missing(df,col,name):\n",
    "    if is_numeric_dtype(col):\n",
    "        if pd.isnull(col).sum:\n",
    "            df[name+\"_na\"] = pd.isnull(col) #ilgili veriler için yeni kolon oluştur sonu _na olacak şekilde\n",
    "        df[name] = col.fillna(col.median()) #Eksik değerleri, sütunun ortanca değeri ile doldurur. Bu, eksik değerleri sayısal sütunun ortancasıyla doldurarak veri kaybını azaltmayı amaçlar."
   ]
  },
  {
   "cell_type": "markdown",
   "id": "d23672df-0d8b-48fd-9400-633fdf0dac2c",
   "metadata": {},
   "source": [
    "<h1>Örnek yapalım</h1>"
   ]
  },
  {
   "cell_type": "code",
   "execution_count": 12,
   "id": "8340859c-598d-4192-b159-e281d2e45786",
   "metadata": {},
   "outputs": [
    {
     "data": {
      "text/plain": [
       "258360"
      ]
     },
     "execution_count": 12,
     "metadata": {},
     "output_type": "execute_result"
    }
   ],
   "source": [
    "df[\"MachineHoursCurrentMeter\"].isnull().sum()"
   ]
  },
  {
   "cell_type": "markdown",
   "id": "37b032d6-5ae2-490e-b790-fda6db0aa379",
   "metadata": {},
   "source": [
    "**25bin eksik veri var**"
   ]
  },
  {
   "cell_type": "code",
   "execution_count": 13,
   "id": "160110d3-effb-4f76-8bdb-38981a2b20ef",
   "metadata": {},
   "outputs": [],
   "source": [
    "fix_missing(df,df[\"MachineHoursCurrentMeter\"],\"MachineHoursCurrentMeter\")"
   ]
  },
  {
   "cell_type": "code",
   "execution_count": 14,
   "id": "3413e4a7-4dd7-48c1-8b4a-84814ff38f23",
   "metadata": {},
   "outputs": [
    {
     "data": {
      "text/plain": [
       "0"
      ]
     },
     "execution_count": 14,
     "metadata": {},
     "output_type": "execute_result"
    }
   ],
   "source": [
    "df[\"MachineHoursCurrentMeter\"].isnull().sum()"
   ]
  },
  {
   "cell_type": "markdown",
   "id": "4ea921eb-9a0b-423b-8b44-9c5d02b6b49a",
   "metadata": {},
   "source": [
    "<h1>Çalıştı</h1>"
   ]
  },
  {
   "cell_type": "code",
   "execution_count": 15,
   "id": "f7f8c0f9-c8b2-4498-a0cf-aaa8b40eba48",
   "metadata": {},
   "outputs": [
    {
     "data": {
      "text/plain": [
       "0         False\n",
       "1         False\n",
       "2         False\n",
       "3         False\n",
       "4         False\n",
       "          ...  \n",
       "401120     True\n",
       "401121     True\n",
       "401122     True\n",
       "401123     True\n",
       "401124     True\n",
       "Name: MachineHoursCurrentMeter_na, Length: 401125, dtype: bool"
      ]
     },
     "execution_count": 15,
     "metadata": {},
     "output_type": "execute_result"
    }
   ],
   "source": [
    "df[\"MachineHoursCurrentMeter_na\"]"
   ]
  },
  {
   "cell_type": "markdown",
   "id": "59dafd0a-581b-4e13-91d8-49076cc30a97",
   "metadata": {},
   "source": [
    "**İlgili kolonu da oluşturmuş. Hangi verilerin olmadığına dair bir kolon**"
   ]
  }
 ],
 "metadata": {
  "kernelspec": {
   "display_name": "Python 3 (ipykernel)",
   "language": "python",
   "name": "python3"
  },
  "language_info": {
   "codemirror_mode": {
    "name": "ipython",
    "version": 3
   },
   "file_extension": ".py",
   "mimetype": "text/x-python",
   "name": "python",
   "nbconvert_exporter": "python",
   "pygments_lexer": "ipython3",
   "version": "3.9.6"
  }
 },
 "nbformat": 4,
 "nbformat_minor": 5
}
